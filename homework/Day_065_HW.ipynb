{
 "cells": [
  {
   "cell_type": "markdown",
   "metadata": {},
   "source": [
    "# 作業:\n",
    "嘗試調整參數:  \n",
    "sg:sg=1表示採用skip-gram,sg=0 表示採用cbow  \n",
    "window:能往左往右看幾個字的意思 "
   ]
  },
  {
   "cell_type": "code",
   "execution_count": 29,
   "metadata": {},
   "outputs": [],
   "source": [
    "import gensim, logging\n",
    "from gensim.models import word2vec"
   ]
  },
  {
   "cell_type": "code",
   "execution_count": 48,
   "metadata": {},
   "outputs": [
    {
     "name": "stderr",
     "output_type": "stream",
     "text": [
      "2019-03-09 15:47:06,840 : INFO : collecting all words and their counts\n",
      "2019-03-09 15:47:06,842 : INFO : PROGRESS: at sentence #0, processed 0 words, keeping 0 word types\n",
      "2019-03-09 15:47:06,843 : INFO : collected 3 word types from a corpus of 4 raw words and 2 sentences\n",
      "2019-03-09 15:47:06,844 : INFO : Loading a fresh vocabulary\n",
      "2019-03-09 15:47:06,845 : INFO : effective_min_count=1 retains 3 unique words (100% of original 3, drops 0)\n",
      "2019-03-09 15:47:06,846 : INFO : effective_min_count=1 leaves 4 word corpus (100% of original 4, drops 0)\n",
      "2019-03-09 15:47:06,847 : INFO : deleting the raw counts dictionary of 3 items\n",
      "2019-03-09 15:47:06,847 : INFO : sample=0.001 downsamples 3 most-common words\n",
      "2019-03-09 15:47:06,848 : INFO : downsampling leaves estimated 0 word corpus (5.7% of prior 4)\n",
      "2019-03-09 15:47:06,849 : INFO : estimated required memory for 3 words and 256 dimensions: 7644 bytes\n",
      "2019-03-09 15:47:06,850 : INFO : resetting layer weights\n",
      "2019-03-09 15:47:06,852 : INFO : training model with 5 workers on 3 vocabulary and 256 features, using sg=0 hs=0 sample=0.001 negative=5 window=3\n",
      "2019-03-09 15:47:06,865 : INFO : worker thread finished; awaiting finish of 4 more threads\n",
      "2019-03-09 15:47:06,866 : INFO : worker thread finished; awaiting finish of 3 more threads\n",
      "2019-03-09 15:47:06,867 : INFO : worker thread finished; awaiting finish of 2 more threads\n",
      "2019-03-09 15:47:06,868 : INFO : worker thread finished; awaiting finish of 1 more threads\n",
      "2019-03-09 15:47:06,869 : INFO : worker thread finished; awaiting finish of 0 more threads\n",
      "2019-03-09 15:47:06,870 : INFO : EPOCH - 1 : training on 4 raw words (0 effective words) took 0.0s, 0 effective words/s\n",
      "2019-03-09 15:47:06,885 : INFO : worker thread finished; awaiting finish of 4 more threads\n",
      "2019-03-09 15:47:06,886 : INFO : worker thread finished; awaiting finish of 3 more threads\n",
      "2019-03-09 15:47:06,887 : INFO : worker thread finished; awaiting finish of 2 more threads\n",
      "2019-03-09 15:47:06,891 : INFO : worker thread finished; awaiting finish of 1 more threads\n",
      "2019-03-09 15:47:06,892 : INFO : worker thread finished; awaiting finish of 0 more threads\n",
      "2019-03-09 15:47:06,893 : INFO : EPOCH - 2 : training on 4 raw words (0 effective words) took 0.0s, 0 effective words/s\n",
      "2019-03-09 15:47:06,910 : INFO : worker thread finished; awaiting finish of 4 more threads\n",
      "2019-03-09 15:47:06,912 : INFO : worker thread finished; awaiting finish of 3 more threads\n",
      "2019-03-09 15:47:06,913 : INFO : worker thread finished; awaiting finish of 2 more threads\n",
      "2019-03-09 15:47:06,914 : INFO : worker thread finished; awaiting finish of 1 more threads\n",
      "2019-03-09 15:47:06,915 : INFO : worker thread finished; awaiting finish of 0 more threads\n",
      "2019-03-09 15:47:06,916 : INFO : EPOCH - 3 : training on 4 raw words (1 effective words) took 0.0s, 139 effective words/s\n",
      "2019-03-09 15:47:06,926 : INFO : worker thread finished; awaiting finish of 4 more threads\n",
      "2019-03-09 15:47:06,926 : INFO : worker thread finished; awaiting finish of 3 more threads\n",
      "2019-03-09 15:47:06,927 : INFO : worker thread finished; awaiting finish of 2 more threads\n",
      "2019-03-09 15:47:06,928 : INFO : worker thread finished; awaiting finish of 1 more threads\n",
      "2019-03-09 15:47:06,929 : INFO : worker thread finished; awaiting finish of 0 more threads\n",
      "2019-03-09 15:47:06,930 : INFO : EPOCH - 4 : training on 4 raw words (1 effective words) took 0.0s, 197 effective words/s\n",
      "2019-03-09 15:47:06,937 : INFO : worker thread finished; awaiting finish of 4 more threads\n",
      "2019-03-09 15:47:06,939 : INFO : worker thread finished; awaiting finish of 3 more threads\n",
      "2019-03-09 15:47:06,940 : INFO : worker thread finished; awaiting finish of 2 more threads\n",
      "2019-03-09 15:47:06,941 : INFO : worker thread finished; awaiting finish of 1 more threads\n",
      "2019-03-09 15:47:06,942 : INFO : worker thread finished; awaiting finish of 0 more threads\n",
      "2019-03-09 15:47:06,943 : INFO : EPOCH - 5 : training on 4 raw words (0 effective words) took 0.0s, 0 effective words/s\n",
      "2019-03-09 15:47:06,944 : INFO : training on a 20 raw words (2 effective words) took 0.1s, 22 effective words/s\n",
      "2019-03-09 15:47:06,945 : WARNING : under 10 jobs per worker: consider setting a smaller `batch_words' for smoother alpha decay\n"
     ]
    }
   ],
   "source": [
    "logging.basicConfig(format='%(asctime)s : %(levelname)s : %(message)s', level=logging.INFO) \n",
    "\n",
    "sentences = [['I am a hero', 'sentence'], ['She is a teacher', 'sentence']] \n",
    " \n",
    "# train word2vec on the two sentences  \n",
    "model = word2vec.Word2Vec(sentences, size=256, min_count=1, window=3, workers=5, sg=0)\n",
    "\n",
    "# sg=0 表示COBW, sg=1 表示skip-gram"
   ]
  },
  {
   "cell_type": "code",
   "execution_count": 49,
   "metadata": {
    "scrolled": false
   },
   "outputs": [
    {
     "name": "stdout",
     "output_type": "stream",
     "text": [
      "Word2Vec(vocab=3, size=256, alpha=0.025)\n"
     ]
    }
   ],
   "source": [
    "print(model)"
   ]
  },
  {
   "cell_type": "code",
   "execution_count": 50,
   "metadata": {},
   "outputs": [
    {
     "data": {
      "text/plain": [
       "-0.023383757"
      ]
     },
     "execution_count": 50,
     "metadata": {},
     "output_type": "execute_result"
    }
   ],
   "source": [
    "model.similarity('I am a hero','She is a teacher')"
   ]
  },
  {
   "cell_type": "code",
   "execution_count": 51,
   "metadata": {},
   "outputs": [
    {
     "name": "stderr",
     "output_type": "stream",
     "text": [
      "2019-03-09 15:47:09,026 : INFO : saving Word2Vec object under mymodel, separately None\n",
      "2019-03-09 15:47:09,028 : INFO : not storing attribute vectors_norm\n",
      "2019-03-09 15:47:09,029 : INFO : not storing attribute cum_table\n",
      "2019-03-09 15:47:09,043 : INFO : saved mymodel\n",
      "2019-03-09 15:47:09,045 : INFO : loading Word2Vec object from mymodel\n",
      "2019-03-09 15:47:09,049 : INFO : loading wv recursively from mymodel.wv.* with mmap=None\n",
      "2019-03-09 15:47:09,050 : INFO : setting ignored attribute vectors_norm to None\n",
      "2019-03-09 15:47:09,053 : INFO : loading vocabulary recursively from mymodel.vocabulary.* with mmap=None\n",
      "2019-03-09 15:47:09,054 : INFO : loading trainables recursively from mymodel.trainables.* with mmap=None\n",
      "2019-03-09 15:47:09,055 : INFO : setting ignored attribute cum_table to None\n",
      "2019-03-09 15:47:09,058 : INFO : loaded mymodel\n"
     ]
    }
   ],
   "source": [
    "model.save('mymodel')  \n",
    "new_model = gensim.models.Word2Vec.load('mymodel')  "
   ]
  },
  {
   "cell_type": "code",
   "execution_count": null,
   "metadata": {},
   "outputs": [],
   "source": []
  }
 ],
 "metadata": {
  "kernelspec": {
   "display_name": "Python 3",
   "language": "python",
   "name": "python3"
  },
  "language_info": {
   "codemirror_mode": {
    "name": "ipython",
    "version": 3
   },
   "file_extension": ".py",
   "mimetype": "text/x-python",
   "name": "python",
   "nbconvert_exporter": "python",
   "pygments_lexer": "ipython3",
   "version": "3.7.1"
  }
 },
 "nbformat": 4,
 "nbformat_minor": 2
}
