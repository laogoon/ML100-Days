{
 "cells": [
  {
   "cell_type": "markdown",
   "metadata": {},
   "source": [
    "## Work\n",
    "1. 試改變 monitor \"Validation Accuracy\" 並比較結果\n",
    "2. 調整 earlystop 的等待次數至 10, 25 並比較結果"
   ]
  },
  {
   "cell_type": "code",
   "execution_count": 7,
   "metadata": {},
   "outputs": [],
   "source": [
    "import os\n",
    "import keras\n",
    "import matplotlib.pyplot as plt\n",
    "%matplotlib inline\n",
    "\n",
    "\n",
    "# Disable GPU\n",
    "#os.environ[\"CUDA_VISIBLE_DEVICES\"] = \"\""
   ]
  },
  {
   "cell_type": "code",
   "execution_count": 8,
   "metadata": {},
   "outputs": [],
   "source": [
    "train, test = keras.datasets.cifar10.load_data()"
   ]
  },
  {
   "cell_type": "code",
   "execution_count": 9,
   "metadata": {},
   "outputs": [],
   "source": [
    "## 資料前處理\n",
    "def preproc_x(x, flatten=True):\n",
    "    x = x / 255.\n",
    "    if flatten:\n",
    "        x = x.reshape((len(x), -1))\n",
    "    return x\n",
    "\n",
    "def preproc_y(y, num_classes=10):\n",
    "    if y.shape[-1] == 1:\n",
    "        y = keras.utils.to_categorical(y, num_classes)\n",
    "    return y    "
   ]
  },
  {
   "cell_type": "code",
   "execution_count": 10,
   "metadata": {},
   "outputs": [],
   "source": [
    "x_train, y_train = train\n",
    "x_test, y_test = test\n",
    "\n",
    "# Preproc the inputs\n",
    "x_train = preproc_x(x_train)\n",
    "x_test = preproc_x(x_test)\n",
    "\n",
    "# Preprc the outputs\n",
    "y_train = preproc_y(y_train)\n",
    "y_test = preproc_y(y_test)"
   ]
  },
  {
   "cell_type": "code",
   "execution_count": 11,
   "metadata": {},
   "outputs": [],
   "source": [
    "from keras.layers import BatchNormalization\n",
    "def build_mlp(input_shape, output_units=10, num_neurons=[512, 256, 128]):\n",
    "    input_layer = keras.layers.Input(input_shape)\n",
    "    \n",
    "    for i, n_units in enumerate(num_neurons):\n",
    "        if i == 0:\n",
    "            x = keras.layers.Dense(units=n_units, \n",
    "                                   activation=\"relu\", \n",
    "                                   name=\"hidden_layer\"+str(i+1))(input_layer)\n",
    "            x = BatchNormalization()(x)\n",
    "        else:\n",
    "            x = keras.layers.Dense(units=n_units, \n",
    "                                   activation=\"relu\", \n",
    "                                   name=\"hidden_layer\"+str(i+1))(x)\n",
    "            x = BatchNormalization()(x)\n",
    "    \n",
    "    out = keras.layers.Dense(units=output_units, activation=\"softmax\", name=\"output\")(x)\n",
    "    \n",
    "    model = keras.models.Model(inputs=[input_layer], outputs=[out])\n",
    "    return model"
   ]
  },
  {
   "cell_type": "code",
   "execution_count": 12,
   "metadata": {},
   "outputs": [],
   "source": [
    "## 超參數設定\n",
    "LEARNING_RATE = 1e-3\n",
    "EPOCHS = 50\n",
    "BATCH_SIZE = 1024\n",
    "MOMENTUM = 0.95"
   ]
  },
  {
   "cell_type": "markdown",
   "metadata": {},
   "source": [
    "### Patience = 10, monitor = Validation Accuracy"
   ]
  },
  {
   "cell_type": "code",
   "execution_count": 13,
   "metadata": {},
   "outputs": [],
   "source": [
    "# 載入 Callbacks\n",
    "from keras.callbacks import EarlyStopping\n",
    "\n",
    "earlystop = EarlyStopping(monitor=\"val_acc\", \n",
    "                          patience=10, \n",
    "                          verbose=1\n",
    "                          )"
   ]
  },
  {
   "cell_type": "code",
   "execution_count": 14,
   "metadata": {},
   "outputs": [
    {
     "name": "stdout",
     "output_type": "stream",
     "text": [
      "_________________________________________________________________\n",
      "Layer (type)                 Output Shape              Param #   \n",
      "=================================================================\n",
      "input_1 (InputLayer)         (None, 3072)              0         \n",
      "_________________________________________________________________\n",
      "hidden_layer1 (Dense)        (None, 512)               1573376   \n",
      "_________________________________________________________________\n",
      "batch_normalization_1 (Batch (None, 512)               2048      \n",
      "_________________________________________________________________\n",
      "hidden_layer2 (Dense)        (None, 256)               131328    \n",
      "_________________________________________________________________\n",
      "batch_normalization_2 (Batch (None, 256)               1024      \n",
      "_________________________________________________________________\n",
      "hidden_layer3 (Dense)        (None, 128)               32896     \n",
      "_________________________________________________________________\n",
      "batch_normalization_3 (Batch (None, 128)               512       \n",
      "_________________________________________________________________\n",
      "output (Dense)               (None, 10)                1290      \n",
      "=================================================================\n",
      "Total params: 1,742,474\n",
      "Trainable params: 1,740,682\n",
      "Non-trainable params: 1,792\n",
      "_________________________________________________________________\n",
      "Train on 50000 samples, validate on 10000 samples\n",
      "Epoch 1/50\n",
      "50000/50000 [==============================] - 5s 94us/step - loss: 2.2092 - acc: 0.2761 - val_loss: 2.1492 - val_acc: 0.3225loss: 2.2515 - acc: 0.2\n",
      "Epoch 2/50\n",
      "50000/50000 [==============================] - 2s 36us/step - loss: 1.7445 - acc: 0.3934 - val_loss: 1.7987 - val_acc: 0.3762\n",
      "Epoch 3/50\n",
      "50000/50000 [==============================] - 2s 36us/step - loss: 1.6153 - acc: 0.4349 - val_loss: 1.6710 - val_acc: 0.4144\n",
      "Epoch 4/50\n",
      "50000/50000 [==============================] - 2s 36us/step - loss: 1.5384 - acc: 0.4628 - val_loss: 1.6183 - val_acc: 0.4327\n",
      "Epoch 5/50\n",
      "50000/50000 [==============================] - 2s 35us/step - loss: 1.4821 - acc: 0.4821 - val_loss: 1.5769 - val_acc: 0.4460\n",
      "Epoch 6/50\n",
      "50000/50000 [==============================] - 2s 35us/step - loss: 1.4358 - acc: 0.4985 - val_loss: 1.5703 - val_acc: 0.4498\n",
      "Epoch 7/50\n",
      "50000/50000 [==============================] - 2s 34us/step - loss: 1.3960 - acc: 0.5138 - val_loss: 1.5518 - val_acc: 0.4569\n",
      "Epoch 8/50\n",
      "50000/50000 [==============================] - 2s 34us/step - loss: 1.3607 - acc: 0.5275 - val_loss: 1.5262 - val_acc: 0.4650\n",
      "Epoch 9/50\n",
      "50000/50000 [==============================] - 2s 41us/step - loss: 1.3301 - acc: 0.5372 - val_loss: 1.5024 - val_acc: 0.4768\n",
      "Epoch 10/50\n",
      "50000/50000 [==============================] - 2s 44us/step - loss: 1.2998 - acc: 0.5487 - val_loss: 1.4839 - val_acc: 0.4792\n",
      "Epoch 11/50\n",
      "50000/50000 [==============================] - 2s 38us/step - loss: 1.2718 - acc: 0.5601 - val_loss: 1.4931 - val_acc: 0.4792\n",
      "Epoch 12/50\n",
      "50000/50000 [==============================] - 2s 35us/step - loss: 1.2441 - acc: 0.5722 - val_loss: 1.4849 - val_acc: 0.4807\n",
      "Epoch 13/50\n",
      "50000/50000 [==============================] - 2s 36us/step - loss: 1.2198 - acc: 0.5788 - val_loss: 1.4699 - val_acc: 0.4874\n",
      "Epoch 14/50\n",
      "50000/50000 [==============================] - 2s 37us/step - loss: 1.1954 - acc: 0.5872 - val_loss: 1.4590 - val_acc: 0.4853\n",
      "Epoch 15/50\n",
      "50000/50000 [==============================] - 2s 37us/step - loss: 1.1732 - acc: 0.5969 - val_loss: 1.4657 - val_acc: 0.4863\n",
      "Epoch 16/50\n",
      "50000/50000 [==============================] - 2s 40us/step - loss: 1.1470 - acc: 0.6061 - val_loss: 1.4623 - val_acc: 0.49101s - loss: 1.14\n",
      "Epoch 17/50\n",
      "50000/50000 [==============================] - 2s 37us/step - loss: 1.1256 - acc: 0.6128 - val_loss: 1.4508 - val_acc: 0.4925\n",
      "Epoch 18/50\n",
      "50000/50000 [==============================] - 2s 37us/step - loss: 1.1022 - acc: 0.6235 - val_loss: 1.4506 - val_acc: 0.4968\n",
      "Epoch 19/50\n",
      "50000/50000 [==============================] - 2s 36us/step - loss: 1.0799 - acc: 0.6306 - val_loss: 1.4413 - val_acc: 0.4957\n",
      "Epoch 20/50\n",
      "50000/50000 [==============================] - 2s 37us/step - loss: 1.0574 - acc: 0.6391 - val_loss: 1.4422 - val_acc: 0.4908\n",
      "Epoch 21/50\n",
      "50000/50000 [==============================] - 2s 39us/step - loss: 1.0388 - acc: 0.6471 - val_loss: 1.4467 - val_acc: 0.4993\n",
      "Epoch 22/50\n",
      "50000/50000 [==============================] - 2s 35us/step - loss: 1.0149 - acc: 0.6533 - val_loss: 1.4545 - val_acc: 0.4959\n",
      "Epoch 23/50\n",
      "50000/50000 [==============================] - 2s 36us/step - loss: 0.9963 - acc: 0.6630 - val_loss: 1.4639 - val_acc: 0.4875\n",
      "Epoch 24/50\n",
      "50000/50000 [==============================] - 2s 36us/step - loss: 0.9747 - acc: 0.6718 - val_loss: 1.4521 - val_acc: 0.4986\n",
      "Epoch 25/50\n",
      "50000/50000 [==============================] - 2s 35us/step - loss: 0.9540 - acc: 0.6791 - val_loss: 1.4565 - val_acc: 0.4975\n",
      "Epoch 26/50\n",
      "50000/50000 [==============================] - 2s 40us/step - loss: 0.9326 - acc: 0.6877 - val_loss: 1.4594 - val_acc: 0.5019\n",
      "Epoch 27/50\n",
      "50000/50000 [==============================] - 2s 37us/step - loss: 0.9142 - acc: 0.6943 - val_loss: 1.4636 - val_acc: 0.5000\n",
      "Epoch 28/50\n",
      "50000/50000 [==============================] - 2s 40us/step - loss: 0.8939 - acc: 0.7028 - val_loss: 1.4640 - val_acc: 0.4997\n",
      "Epoch 29/50\n",
      "50000/50000 [==============================] - 2s 35us/step - loss: 0.8734 - acc: 0.7101 - val_loss: 1.4824 - val_acc: 0.4886\n",
      "Epoch 30/50\n",
      "50000/50000 [==============================] - 2s 36us/step - loss: 0.8552 - acc: 0.7189 - val_loss: 1.4918 - val_acc: 0.4967\n",
      "Epoch 31/50\n",
      "50000/50000 [==============================] - 2s 36us/step - loss: 0.8353 - acc: 0.7245 - val_loss: 1.4890 - val_acc: 0.4934\n",
      "Epoch 32/50\n",
      "50000/50000 [==============================] - 2s 37us/step - loss: 0.8161 - acc: 0.7326 - val_loss: 1.4870 - val_acc: 0.4972\n",
      "Epoch 33/50\n",
      "50000/50000 [==============================] - 2s 35us/step - loss: 0.7969 - acc: 0.7400 - val_loss: 1.4942 - val_acc: 0.5002\n",
      "Epoch 34/50\n",
      "50000/50000 [==============================] - 2s 38us/step - loss: 0.7777 - acc: 0.7467 - val_loss: 1.5057 - val_acc: 0.4948\n",
      "Epoch 35/50\n",
      "50000/50000 [==============================] - 2s 37us/step - loss: 0.7581 - acc: 0.7548 - val_loss: 1.5068 - val_acc: 0.4944\n",
      "Epoch 36/50\n",
      "50000/50000 [==============================] - 2s 38us/step - loss: 0.7379 - acc: 0.7634 - val_loss: 1.5362 - val_acc: 0.4925\n",
      "Epoch 00036: early stopping\n"
     ]
    }
   ],
   "source": [
    "model = build_mlp(input_shape=x_train.shape[1:])\n",
    "model.summary()\n",
    "optimizer = keras.optimizers.SGD(lr=LEARNING_RATE, nesterov=True, momentum=MOMENTUM)\n",
    "model.compile(loss=\"categorical_crossentropy\", metrics=[\"accuracy\"], optimizer=optimizer)\n",
    "\n",
    "model.fit(x_train, y_train, \n",
    "          epochs=EPOCHS, \n",
    "          batch_size=BATCH_SIZE, \n",
    "          validation_data=(x_test, y_test), \n",
    "          shuffle=True,\n",
    "          callbacks=[earlystop]\n",
    "         )\n",
    "\n",
    "# Collect results\n",
    "train_loss = model.history.history[\"loss\"]\n",
    "valid_loss = model.history.history[\"val_loss\"]\n",
    "train_acc = model.history.history[\"acc\"]\n",
    "valid_acc = model.history.history[\"val_acc\"]"
   ]
  },
  {
   "cell_type": "code",
   "execution_count": 15,
   "metadata": {},
   "outputs": [
    {
     "data": {
      "image/png": "[encoded data removed]",
      "text/plain": [
       "<Figure size 432x288 with 1 Axes>"
      ]
     },
     "metadata": {},
     "output_type": "display_data"
    },
    {
     "data": {
      "image/png": "[encoded data removed]",
      "text/plain": [
       "<Figure size 432x288 with 1 Axes>"
      ]
     },
     "metadata": {},
     "output_type": "display_data"
    }
   ],
   "source": [
    "import matplotlib.pyplot as plt\n",
    "%matplotlib inline\n",
    "\n",
    "plt.plot(range(len(train_loss)), train_loss, label=\"train loss\")\n",
    "plt.plot(range(len(valid_loss)), valid_loss, label=\"valid loss\")\n",
    "plt.legend()\n",
    "plt.title(\"Loss\")\n",
    "plt.show()\n",
    "\n",
    "plt.plot(range(len(train_acc)), train_acc, label=\"train accuracy\")\n",
    "plt.plot(range(len(valid_acc)), valid_acc, label=\"valid accuracy\")\n",
    "plt.legend()\n",
    "plt.title(\"Accuracy\")\n",
    "plt.show()"
   ]
  },
  {
   "cell_type": "markdown",
   "metadata": {},
   "source": [
    "### Patience = 25, monitor = Validation Accuracy"
   ]
  },
  {
   "cell_type": "code",
   "execution_count": 16,
   "metadata": {},
   "outputs": [],
   "source": [
    "# 載入 Callbacks\n",
    "from keras.callbacks import EarlyStopping\n",
    "\n",
    "earlystop = EarlyStopping(monitor=\"val_acc\", \n",
    "                          patience=25, \n",
    "                          verbose=1\n",
    "                          )"
   ]
  },
  {
   "cell_type": "code",
   "execution_count": 17,
   "metadata": {},
   "outputs": [
    {
     "name": "stdout",
     "output_type": "stream",
     "text": [
      "_________________________________________________________________\n",
      "Layer (type)                 Output Shape              Param #   \n",
      "=================================================================\n",
      "input_2 (InputLayer)         (None, 3072)              0         \n",
      "_________________________________________________________________\n",
      "hidden_layer1 (Dense)        (None, 512)               1573376   \n",
      "_________________________________________________________________\n",
      "batch_normalization_4 (Batch (None, 512)               2048      \n",
      "_________________________________________________________________\n",
      "hidden_layer2 (Dense)        (None, 256)               131328    \n",
      "_________________________________________________________________\n",
      "batch_normalization_5 (Batch (None, 256)               1024      \n",
      "_________________________________________________________________\n",
      "hidden_layer3 (Dense)        (None, 128)               32896     \n",
      "_________________________________________________________________\n",
      "batch_normalization_6 (Batch (None, 128)               512       \n",
      "_________________________________________________________________\n",
      "output (Dense)               (None, 10)                1290      \n",
      "=================================================================\n",
      "Total params: 1,742,474\n",
      "Trainable params: 1,740,682\n",
      "Non-trainable params: 1,792\n",
      "_________________________________________________________________\n",
      "Train on 50000 samples, validate on 10000 samples\n",
      "Epoch 1/50\n",
      "50000/50000 [==============================] - 3s 55us/step - loss: 2.2327 - acc: 0.2656 - val_loss: 2.1102 - val_acc: 0.3215\n",
      "Epoch 2/50\n",
      "50000/50000 [==============================] - 2s 44us/step - loss: 1.7440 - acc: 0.3953 - val_loss: 1.8595 - val_acc: 0.3716\n",
      "Epoch 3/50\n",
      "50000/50000 [==============================] - 2s 40us/step - loss: 1.6237 - acc: 0.4339 - val_loss: 1.7012 - val_acc: 0.4080\n",
      "Epoch 4/50\n",
      "50000/50000 [==============================] - 2s 36us/step - loss: 1.5504 - acc: 0.4618 - val_loss: 1.6561 - val_acc: 0.4194\n",
      "Epoch 5/50\n",
      "50000/50000 [==============================] - 2s 38us/step - loss: 1.4987 - acc: 0.4778 - val_loss: 1.6046 - val_acc: 0.4328 0s - loss: 1.5023 - acc: 0 - ETA: 0s - loss: 1.4975 - acc: 0.4\n",
      "Epoch 6/50\n",
      "50000/50000 [==============================] - 2s 43us/step - loss: 1.4534 - acc: 0.4938 - val_loss: 1.5801 - val_acc: 0.4427\n",
      "Epoch 7/50\n",
      "50000/50000 [==============================] - 2s 42us/step - loss: 1.4152 - acc: 0.5084 - val_loss: 1.5540 - val_acc: 0.4472\n",
      "Epoch 8/50\n",
      "50000/50000 [==============================] - 2s 38us/step - loss: 1.3815 - acc: 0.5210 - val_loss: 1.5461 - val_acc: 0.4574\n",
      "Epoch 9/50\n",
      "50000/50000 [==============================] - 2s 39us/step - loss: 1.3484 - acc: 0.5317 - val_loss: 1.5106 - val_acc: 0.4699\n",
      "Epoch 10/50\n",
      "50000/50000 [==============================] - 2s 39us/step - loss: 1.3200 - acc: 0.5408 - val_loss: 1.5012 - val_acc: 0.4704\n",
      "Epoch 11/50\n",
      "50000/50000 [==============================] - 2s 37us/step - loss: 1.2914 - acc: 0.5513 - val_loss: 1.4816 - val_acc: 0.4749\n",
      "Epoch 12/50\n",
      "50000/50000 [==============================] - 2s 37us/step - loss: 1.2633 - acc: 0.5633 - val_loss: 1.4783 - val_acc: 0.4791\n",
      "Epoch 13/50\n",
      "50000/50000 [==============================] - 2s 39us/step - loss: 1.2373 - acc: 0.5725 - val_loss: 1.4633 - val_acc: 0.4804\n",
      "Epoch 14/50\n",
      "50000/50000 [==============================] - 2s 37us/step - loss: 1.2141 - acc: 0.5809 - val_loss: 1.4537 - val_acc: 0.4819\n",
      "Epoch 15/50\n",
      "50000/50000 [==============================] - 2s 36us/step - loss: 1.1892 - acc: 0.5915 - val_loss: 1.4544 - val_acc: 0.4846\n",
      "Epoch 16/50\n",
      "50000/50000 [==============================] - 2s 37us/step - loss: 1.1665 - acc: 0.5978 - val_loss: 1.4581 - val_acc: 0.4828\n",
      "Epoch 17/50\n",
      "50000/50000 [==============================] - 2s 36us/step - loss: 1.1449 - acc: 0.6062 - val_loss: 1.4467 - val_acc: 0.4900\n",
      "Epoch 18/50\n",
      "50000/50000 [==============================] - 2s 36us/step - loss: 1.1185 - acc: 0.6164 - val_loss: 1.4534 - val_acc: 0.4847\n",
      "Epoch 19/50\n",
      "50000/50000 [==============================] - 2s 37us/step - loss: 1.0977 - acc: 0.6238 - val_loss: 1.4401 - val_acc: 0.4902\n",
      "Epoch 20/50\n",
      "50000/50000 [==============================] - 2s 40us/step - loss: 1.0767 - acc: 0.6324 - val_loss: 1.4443 - val_acc: 0.4938\n",
      "Epoch 21/50\n",
      "50000/50000 [==============================] - 2s 38us/step - loss: 1.0551 - acc: 0.6399 - val_loss: 1.4478 - val_acc: 0.4910\n",
      "Epoch 22/50\n",
      "50000/50000 [==============================] - 2s 40us/step - loss: 1.0318 - acc: 0.6497 - val_loss: 1.4491 - val_acc: 0.4976\n",
      "Epoch 23/50\n",
      "50000/50000 [==============================] - 2s 39us/step - loss: 1.0132 - acc: 0.6546 - val_loss: 1.4569 - val_acc: 0.4938\n",
      "Epoch 24/50\n",
      "50000/50000 [==============================] - 2s 38us/step - loss: 0.9961 - acc: 0.6629 - val_loss: 1.4579 - val_acc: 0.4866\n",
      "Epoch 25/50\n",
      "50000/50000 [==============================] - 2s 39us/step - loss: 0.9740 - acc: 0.6717 - val_loss: 1.4561 - val_acc: 0.4921\n",
      "Epoch 26/50\n",
      "50000/50000 [==============================] - 2s 38us/step - loss: 0.9530 - acc: 0.6800 - val_loss: 1.4552 - val_acc: 0.4948\n",
      "Epoch 27/50\n",
      "50000/50000 [==============================] - 2s 35us/step - loss: 0.9323 - acc: 0.6871 - val_loss: 1.4658 - val_acc: 0.4936\n",
      "Epoch 28/50\n",
      "50000/50000 [==============================] - 2s 37us/step - loss: 0.9141 - acc: 0.6959 - val_loss: 1.4701 - val_acc: 0.4920\n",
      "Epoch 29/50\n",
      "50000/50000 [==============================] - 2s 37us/step - loss: 0.8929 - acc: 0.7028 - val_loss: 1.4933 - val_acc: 0.4884\n",
      "Epoch 30/50\n",
      "50000/50000 [==============================] - 2s 40us/step - loss: 0.8729 - acc: 0.7124 - val_loss: 1.4709 - val_acc: 0.4939\n",
      "Epoch 31/50\n",
      "50000/50000 [==============================] - 2s 37us/step - loss: 0.8546 - acc: 0.7180 - val_loss: 1.4691 - val_acc: 0.4973\n",
      "Epoch 32/50\n",
      "50000/50000 [==============================] - 2s 39us/step - loss: 0.8348 - acc: 0.7273 - val_loss: 1.4721 - val_acc: 0.5032\n",
      "Epoch 33/50\n",
      "50000/50000 [==============================] - 2s 40us/step - loss: 0.8158 - acc: 0.7328 - val_loss: 1.4891 - val_acc: 0.4996\n",
      "Epoch 34/50\n",
      "50000/50000 [==============================] - 2s 39us/step - loss: 0.7964 - acc: 0.7415 - val_loss: 1.5146 - val_acc: 0.4907\n",
      "Epoch 35/50\n",
      "50000/50000 [==============================] - 2s 36us/step - loss: 0.7776 - acc: 0.7485 - val_loss: 1.4941 - val_acc: 0.4941\n",
      "Epoch 36/50\n",
      "50000/50000 [==============================] - 2s 39us/step - loss: 0.7591 - acc: 0.7562 - val_loss: 1.5077 - val_acc: 0.4976\n",
      "Epoch 37/50\n",
      "50000/50000 [==============================] - 2s 36us/step - loss: 0.7397 - acc: 0.7637 - val_loss: 1.5149 - val_acc: 0.5007\n",
      "Epoch 38/50\n",
      "50000/50000 [==============================] - 2s 38us/step - loss: 0.7210 - acc: 0.7713 - val_loss: 1.5212 - val_acc: 0.4974\n",
      "Epoch 39/50\n",
      "50000/50000 [==============================] - 2s 40us/step - loss: 0.7026 - acc: 0.7786 - val_loss: 1.5325 - val_acc: 0.4920\n",
      "Epoch 40/50\n",
      "50000/50000 [==============================] - 2s 38us/step - loss: 0.6847 - acc: 0.7848 - val_loss: 1.5377 - val_acc: 0.4961\n",
      "Epoch 41/50\n",
      "50000/50000 [==============================] - 2s 35us/step - loss: 0.6670 - acc: 0.7932 - val_loss: 1.5528 - val_acc: 0.4959\n",
      "Epoch 42/50\n",
      "50000/50000 [==============================] - 2s 36us/step - loss: 0.6485 - acc: 0.8006 - val_loss: 1.5746 - val_acc: 0.4941\n",
      "Epoch 43/50\n",
      "50000/50000 [==============================] - 2s 36us/step - loss: 0.6301 - acc: 0.8090 - val_loss: 1.5718 - val_acc: 0.4955\n",
      "Epoch 44/50\n",
      "50000/50000 [==============================] - 2s 42us/step - loss: 0.6136 - acc: 0.8141 - val_loss: 1.5842 - val_acc: 0.4952\n",
      "Epoch 45/50\n",
      "50000/50000 [==============================] - 2s 39us/step - loss: 0.5966 - acc: 0.8211 - val_loss: 1.5886 - val_acc: 0.4978\n",
      "Epoch 46/50\n",
      "50000/50000 [==============================] - 2s 36us/step - loss: 0.5797 - acc: 0.8267 - val_loss: 1.5962 - val_acc: 0.4913\n",
      "Epoch 47/50\n",
      "50000/50000 [==============================] - 2s 34us/step - loss: 0.5634 - acc: 0.8354 - val_loss: 1.6145 - val_acc: 0.4934\n",
      "Epoch 48/50\n",
      "50000/50000 [==============================] - 2s 35us/step - loss: 0.5460 - acc: 0.8421 - val_loss: 1.6118 - val_acc: 0.4983\n",
      "Epoch 49/50\n"
     ]
    },
    {
     "name": "stdout",
     "output_type": "stream",
     "text": [
      "50000/50000 [==============================] - 2s 36us/step - loss: 0.5299 - acc: 0.8480 - val_loss: 1.6334 - val_acc: 0.4946\n",
      "Epoch 50/50\n",
      "50000/50000 [==============================] - 2s 37us/step - loss: 0.5135 - acc: 0.8543 - val_loss: 1.6341 - val_acc: 0.4935\n"
     ]
    }
   ],
   "source": [
    "model = build_mlp(input_shape=x_train.shape[1:])\n",
    "model.summary()\n",
    "optimizer = keras.optimizers.SGD(lr=LEARNING_RATE, nesterov=True, momentum=MOMENTUM)\n",
    "model.compile(loss=\"categorical_crossentropy\", metrics=[\"accuracy\"], optimizer=optimizer)\n",
    "\n",
    "model.fit(x_train, y_train, \n",
    "          epochs=EPOCHS, \n",
    "          batch_size=BATCH_SIZE, \n",
    "          validation_data=(x_test, y_test), \n",
    "          shuffle=True,\n",
    "          callbacks=[earlystop]\n",
    "         )\n",
    "\n",
    "# Collect results\n",
    "train_loss = model.history.history[\"loss\"]\n",
    "valid_loss = model.history.history[\"val_loss\"]\n",
    "train_acc = model.history.history[\"acc\"]\n",
    "valid_acc = model.history.history[\"val_acc\"]"
   ]
  },
  {
   "cell_type": "code",
   "execution_count": 18,
   "metadata": {},
   "outputs": [
    {
     "data": {
      "image/png": "[encoded data removed]",
      "text/plain": [
       "<Figure size 432x288 with 1 Axes>"
      ]
     },
     "metadata": {},
     "output_type": "display_data"
    },
    {
     "data": {
      "image/png": "[encoded data removed]",
      "text/plain": [
       "<Figure size 432x288 with 1 Axes>"
      ]
     },
     "metadata": {},
     "output_type": "display_data"
    }
   ],
   "source": [
    "import matplotlib.pyplot as plt\n",
    "%matplotlib inline\n",
    "\n",
    "plt.plot(range(len(train_loss)), train_loss, label=\"train loss\")\n",
    "plt.plot(range(len(valid_loss)), valid_loss, label=\"valid loss\")\n",
    "plt.legend()\n",
    "plt.title(\"Loss\")\n",
    "plt.show()\n",
    "\n",
    "plt.plot(range(len(train_acc)), train_acc, label=\"train accuracy\")\n",
    "plt.plot(range(len(valid_acc)), valid_acc, label=\"valid accuracy\")\n",
    "plt.legend()\n",
    "plt.title(\"Accuracy\")\n",
    "plt.show()"
   ]
  },
  {
   "cell_type": "code",
   "execution_count": null,
   "metadata": {},
   "outputs": [],
   "source": []
  }
 ],
 "metadata": {
  "kernelspec": {
   "display_name": "Python 3",
   "language": "python",
   "name": "python3"
  },
  "language_info": {
   "codemirror_mode": {
    "name": "ipython",
    "version": 3
   },
   "file_extension": ".py",
   "mimetype": "text/x-python",
   "name": "python",
   "nbconvert_exporter": "python",
   "pygments_lexer": "ipython3",
   "version": "3.6.5"
  }
 },
 "nbformat": 4,
 "nbformat_minor": 2
}
