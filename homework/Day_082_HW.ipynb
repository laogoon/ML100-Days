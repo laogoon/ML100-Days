{
 "cells": [
  {
   "cell_type": "markdown",
   "metadata": {},
   "source": [
    "## Work\n",
    "1. 請比較使用不同層數以及不同 Dropout rate 對訓練的效果\n",
    "2. 將 optimizer 改成使用 Adam 並加上適當的 dropout rate 檢視結果"
   ]
  },
  {
   "cell_type": "code",
   "execution_count": 1,
   "metadata": {},
   "outputs": [
    {
     "name": "stderr",
     "output_type": "stream",
     "text": [
      "C:\\Users\\laogoon\\Anaconda3\\lib\\site-packages\\h5py\\__init__.py:36: FutureWarning: Conversion of the second argument of issubdtype from `float` to `np.floating` is deprecated. In future, it will be treated as `np.float64 == np.dtype(float).type`.\n",
      "  from ._conv import register_converters as _register_converters\n",
      "Using TensorFlow backend.\n"
     ]
    }
   ],
   "source": [
    "import os\n",
    "import keras\n",
    "import itertools\n",
    "# Disable GPU\n",
    "#os.environ[\"CUDA_VISIBLE_DEVICES\"] = \"\""
   ]
  },
  {
   "cell_type": "code",
   "execution_count": 2,
   "metadata": {},
   "outputs": [],
   "source": [
    "train, test = keras.datasets.cifar10.load_data()"
   ]
  },
  {
   "cell_type": "code",
   "execution_count": 3,
   "metadata": {},
   "outputs": [],
   "source": [
    "## 資料前處理\n",
    "def preproc_x(x, flatten=True):\n",
    "    x = x / 255.\n",
    "    if flatten:\n",
    "        x = x.reshape((len(x), -1))\n",
    "    return x\n",
    "\n",
    "def preproc_y(y, num_classes=10):\n",
    "    if y.shape[-1] == 1:\n",
    "        y = keras.utils.to_categorical(y, num_classes)\n",
    "    return y    "
   ]
  },
  {
   "cell_type": "code",
   "execution_count": 4,
   "metadata": {},
   "outputs": [],
   "source": [
    "x_train, y_train = train\n",
    "x_test, y_test = test\n",
    "\n",
    "# Preproc the inputs\n",
    "x_train = preproc_x(x_train)\n",
    "x_test = preproc_x(x_test)\n",
    "\n",
    "# Preprc the outputs\n",
    "y_train = preproc_y(y_train)\n",
    "y_test = preproc_y(y_test)"
   ]
  },
  {
   "cell_type": "code",
   "execution_count": 5,
   "metadata": {},
   "outputs": [],
   "source": [
    "from keras.layers import Dropout\n",
    "def build_mlp(input_shape, output_units=10, num_neurons=[512, 256, 128], drp_ratio=0.25):\n",
    "    input_layer = keras.layers.Input(input_shape)\n",
    "    \n",
    "    for i, n_units in enumerate(num_neurons):\n",
    "        if i == 0:\n",
    "            x = keras.layers.Dense(units=n_units, \n",
    "                                   activation=\"relu\", \n",
    "                                   name=\"hidden_layer\"+str(i+1))(input_layer)\n",
    "            x = Dropout(drp_ratio)(x)\n",
    "        else:\n",
    "            x = keras.layers.Dense(units=n_units, \n",
    "                                   activation=\"relu\", \n",
    "                                   name=\"hidden_layer\"+str(i+1))(x)\n",
    "            x = Dropout(drp_ratio)(x)\n",
    "    \n",
    "    out = keras.layers.Dense(units=output_units, activation=\"softmax\", name=\"output\")(x)\n",
    "    \n",
    "    model = keras.models.Model(inputs=[input_layer], outputs=[out])\n",
    "    return model"
   ]
  },
  {
   "cell_type": "code",
   "execution_count": 6,
   "metadata": {},
   "outputs": [],
   "source": [
    "## 超參數設定\n",
    "LEARNING_RATE = 1e-3\n",
    "EPOCHS = 50\n",
    "BATCH_SIZE = 256\n",
    "MOMENTUM = 0.95\n",
    "Dropout_EXP = 0.25"
   ]
  },
  {
   "cell_type": "code",
   "execution_count": 7,
   "metadata": {
    "scrolled": true
   },
   "outputs": [
    {
     "name": "stdout",
     "output_type": "stream",
     "text": [
      "_________________________________________________________________\n",
      "Layer (type)                 Output Shape              Param #   \n",
      "=================================================================\n",
      "input_1 (InputLayer)         (None, 3072)              0         \n",
      "_________________________________________________________________\n",
      "hidden_layer1 (Dense)        (None, 512)               1573376   \n",
      "_________________________________________________________________\n",
      "dropout_1 (Dropout)          (None, 512)               0         \n",
      "_________________________________________________________________\n",
      "hidden_layer2 (Dense)        (None, 256)               131328    \n",
      "_________________________________________________________________\n",
      "dropout_2 (Dropout)          (None, 256)               0         \n",
      "_________________________________________________________________\n",
      "hidden_layer3 (Dense)        (None, 128)               32896     \n",
      "_________________________________________________________________\n",
      "dropout_3 (Dropout)          (None, 128)               0         \n",
      "_________________________________________________________________\n",
      "output (Dense)               (None, 10)                1290      \n",
      "=================================================================\n",
      "Total params: 1,738,890\n",
      "Trainable params: 1,738,890\n",
      "Non-trainable params: 0\n",
      "_________________________________________________________________\n",
      "Train on 50000 samples, validate on 10000 samples\n",
      "Epoch 1/50\n",
      "50000/50000 [==============================] - 5s 110us/step - loss: 2.0626 - acc: 0.2398 - val_loss: 1.8322 - val_acc: 0.3521\n",
      "Epoch 2/50\n",
      "50000/50000 [==============================] - 3s 50us/step - loss: 1.8782 - acc: 0.3161 - val_loss: 1.7403 - val_acc: 0.3792\n",
      "Epoch 3/50\n",
      "50000/50000 [==============================] - 2s 48us/step - loss: 1.8317 - acc: 0.3349 - val_loss: 1.7712 - val_acc: 0.3688\n",
      "Epoch 4/50\n",
      "50000/50000 [==============================] - 2s 48us/step - loss: 1.8017 - acc: 0.3443 - val_loss: 1.7006 - val_acc: 0.3898\n",
      "Epoch 5/50\n",
      "50000/50000 [==============================] - 3s 54us/step - loss: 1.7632 - acc: 0.3632 - val_loss: 1.6679 - val_acc: 0.4106\n",
      "Epoch 6/50\n",
      "50000/50000 [==============================] - 2s 47us/step - loss: 1.7347 - acc: 0.3732 - val_loss: 1.6404 - val_acc: 0.4289\n",
      "Epoch 7/50\n",
      "50000/50000 [==============================] - 2s 47us/step - loss: 1.7163 - acc: 0.3826 - val_loss: 1.6096 - val_acc: 0.4324\n",
      "Epoch 8/50\n",
      "50000/50000 [==============================] - 2s 48us/step - loss: 1.7020 - acc: 0.3871 - val_loss: 1.6170 - val_acc: 0.4272\n",
      "Epoch 9/50\n",
      "50000/50000 [==============================] - 2s 47us/step - loss: 1.6853 - acc: 0.3940 - val_loss: 1.6176 - val_acc: 0.4409\n",
      "Epoch 10/50\n",
      "50000/50000 [==============================] - 2s 47us/step - loss: 1.6718 - acc: 0.3970 - val_loss: 1.5844 - val_acc: 0.4469\n",
      "Epoch 11/50\n",
      "50000/50000 [==============================] - 2s 47us/step - loss: 1.6593 - acc: 0.4032 - val_loss: 1.6116 - val_acc: 0.4405\n",
      "Epoch 12/50\n",
      "50000/50000 [==============================] - 2s 48us/step - loss: 1.6484 - acc: 0.4084 - val_loss: 1.5571 - val_acc: 0.4563\n",
      "Epoch 13/50\n",
      "50000/50000 [==============================] - 2s 47us/step - loss: 1.6417 - acc: 0.4104 - val_loss: 1.5777 - val_acc: 0.4480\n",
      "Epoch 14/50\n",
      "50000/50000 [==============================] - 2s 47us/step - loss: 1.6330 - acc: 0.4143 - val_loss: 1.5675 - val_acc: 0.4396\n",
      "Epoch 15/50\n",
      "50000/50000 [==============================] - 2s 46us/step - loss: 1.6208 - acc: 0.4173 - val_loss: 1.5594 - val_acc: 0.4589\n",
      "Epoch 16/50\n",
      "50000/50000 [==============================] - 2s 48us/step - loss: 1.6135 - acc: 0.4223 - val_loss: 1.5521 - val_acc: 0.4576\n",
      "Epoch 17/50\n",
      "50000/50000 [==============================] - 2s 48us/step - loss: 1.6101 - acc: 0.4197 - val_loss: 1.5393 - val_acc: 0.4585\n",
      "Epoch 18/50\n",
      "50000/50000 [==============================] - 2s 49us/step - loss: 1.6071 - acc: 0.4233 - val_loss: 1.5432 - val_acc: 0.4570\n",
      "Epoch 19/50\n",
      "50000/50000 [==============================] - 3s 50us/step - loss: 1.6066 - acc: 0.4242 - val_loss: 1.5253 - val_acc: 0.4588\n",
      "Epoch 20/50\n",
      "50000/50000 [==============================] - 2s 49us/step - loss: 1.5953 - acc: 0.4253 - val_loss: 1.5177 - val_acc: 0.4646\n",
      "Epoch 21/50\n",
      "50000/50000 [==============================] - 2s 49us/step - loss: 1.5848 - acc: 0.4295 - val_loss: 1.5088 - val_acc: 0.4674\n",
      "Epoch 22/50\n",
      "50000/50000 [==============================] - 2s 48us/step - loss: 1.5731 - acc: 0.4346 - val_loss: 1.5092 - val_acc: 0.4719\n",
      "Epoch 23/50\n",
      "50000/50000 [==============================] - 2s 48us/step - loss: 1.5772 - acc: 0.4340 - val_loss: 1.5046 - val_acc: 0.4671\n",
      "Epoch 24/50\n",
      "50000/50000 [==============================] - 2s 49us/step - loss: 1.5693 - acc: 0.4378 - val_loss: 1.5043 - val_acc: 0.4692\n",
      "Epoch 25/50\n",
      "50000/50000 [==============================] - 3s 59us/step - loss: 1.5635 - acc: 0.4392 - val_loss: 1.5294 - val_acc: 0.4711\n",
      "Epoch 26/50\n",
      "50000/50000 [==============================] - 3s 55us/step - loss: 1.5606 - acc: 0.4390 - val_loss: 1.5006 - val_acc: 0.4695\n",
      "Epoch 27/50\n",
      "50000/50000 [==============================] - 2s 48us/step - loss: 1.5542 - acc: 0.4396 - val_loss: 1.5196 - val_acc: 0.4603\n",
      "Epoch 28/50\n",
      "50000/50000 [==============================] - 3s 50us/step - loss: 1.5426 - acc: 0.4451 - val_loss: 1.4917 - val_acc: 0.4748\n",
      "Epoch 29/50\n",
      "50000/50000 [==============================] - 3s 54us/step - loss: 1.5466 - acc: 0.4447 - val_loss: 1.4812 - val_acc: 0.4821\n",
      "Epoch 30/50\n",
      "50000/50000 [==============================] - 3s 51us/step - loss: 1.5417 - acc: 0.4463 - val_loss: 1.4759 - val_acc: 0.4763\n",
      "Epoch 31/50\n",
      "50000/50000 [==============================] - 3s 54us/step - loss: 1.5292 - acc: 0.4509 - val_loss: 1.4678 - val_acc: 0.4798\n",
      "Epoch 32/50\n",
      "50000/50000 [==============================] - 3s 52us/step - loss: 1.5351 - acc: 0.4487 - val_loss: 1.4911 - val_acc: 0.4637\n",
      "Epoch 33/50\n",
      "50000/50000 [==============================] - 3s 52us/step - loss: 1.5400 - acc: 0.4504 - val_loss: 1.4734 - val_acc: 0.4757\n",
      "Epoch 34/50\n",
      "50000/50000 [==============================] - 3s 51us/step - loss: 1.5270 - acc: 0.4523 - val_loss: 1.4721 - val_acc: 0.4804\n",
      "Epoch 35/50\n",
      "50000/50000 [==============================] - 2s 50us/step - loss: 1.5260 - acc: 0.4532 - val_loss: 1.4813 - val_acc: 0.4746\n",
      "Epoch 36/50\n",
      "50000/50000 [==============================] - 3s 51us/step - loss: 1.5277 - acc: 0.4506 - val_loss: 1.4751 - val_acc: 0.4778\n",
      "Epoch 37/50\n",
      "50000/50000 [==============================] - 3s 51us/step - loss: 1.5159 - acc: 0.4555 - val_loss: 1.4757 - val_acc: 0.4774\n",
      "Epoch 38/50\n",
      "50000/50000 [==============================] - 3s 57us/step - loss: 1.5134 - acc: 0.4598 - val_loss: 1.4764 - val_acc: 0.4795\n",
      "Epoch 39/50\n",
      "50000/50000 [==============================] - 3s 53us/step - loss: 1.5088 - acc: 0.4569 - val_loss: 1.4949 - val_acc: 0.4695\n",
      "Epoch 40/50\n",
      "50000/50000 [==============================] - 3s 54us/step - loss: 1.5112 - acc: 0.4575 - val_loss: 1.4578 - val_acc: 0.4808\n",
      "Epoch 41/50\n",
      "50000/50000 [==============================] - 3s 52us/step - loss: 1.5079 - acc: 0.4594 - val_loss: 1.4683 - val_acc: 0.4802\n",
      "Epoch 42/50\n",
      "50000/50000 [==============================] - 3s 51us/step - loss: 1.4954 - acc: 0.4632 - val_loss: 1.4684 - val_acc: 0.4820\n",
      "Epoch 43/50\n",
      "50000/50000 [==============================] - 2s 48us/step - loss: 1.5055 - acc: 0.4588 - val_loss: 1.4617 - val_acc: 0.4826\n",
      "Epoch 44/50\n",
      "50000/50000 [==============================] - 3s 57us/step - loss: 1.5009 - acc: 0.4612 - val_loss: 1.4645 - val_acc: 0.4770\n",
      "Epoch 45/50\n",
      "50000/50000 [==============================] - 3s 51us/step - loss: 1.4925 - acc: 0.4644 - val_loss: 1.4760 - val_acc: 0.4787\n",
      "Epoch 46/50\n",
      "50000/50000 [==============================] - 3s 54us/step - loss: 1.4907 - acc: 0.4644 - val_loss: 1.4599 - val_acc: 0.4861\n",
      "Epoch 47/50\n",
      "50000/50000 [==============================] - 3s 59us/step - loss: 1.4866 - acc: 0.4672 - val_loss: 1.4779 - val_acc: 0.4817\n",
      "Epoch 48/50\n",
      "50000/50000 [==============================] - 3s 57us/step - loss: 1.4820 - acc: 0.4679 - val_loss: 1.4596 - val_acc: 0.4798\n",
      "Epoch 49/50\n",
      "50000/50000 [==============================] - 3s 57us/step - loss: 1.4832 - acc: 0.4654 - val_loss: 1.4471 - val_acc: 0.4847\n"
     ]
    },
    {
     "name": "stdout",
     "output_type": "stream",
     "text": [
      "Epoch 50/50\n",
      "50000/50000 [==============================] - 3s 53us/step - loss: 1.4741 - acc: 0.4720 - val_loss: 1.4504 - val_acc: 0.4902\n"
     ]
    }
   ],
   "source": [
    "model = build_mlp(input_shape=x_train.shape[1:], drp_ratio=Dropout_EXP)\n",
    "model.summary()\n",
    "optimizer = keras.optimizers.Adam(lr=LEARNING_RATE)\n",
    "model.compile(loss=\"categorical_crossentropy\", metrics=[\"accuracy\"], optimizer=optimizer)\n",
    "\n",
    "model.fit(x_train, y_train, \n",
    "          epochs=EPOCHS, \n",
    "          batch_size=BATCH_SIZE, \n",
    "          validation_data=(x_test, y_test), \n",
    "          shuffle=True)\n",
    "\n",
    "# Collect results\n",
    "train_loss = model.history.history[\"loss\"]\n",
    "valid_loss = model.history.history[\"val_loss\"]\n",
    "train_acc = model.history.history[\"acc\"]\n",
    "valid_acc = model.history.history[\"val_acc\"]"
   ]
  },
  {
   "cell_type": "code",
   "execution_count": 8,
   "metadata": {},
   "outputs": [
    {
     "data": {
      "image/png": "[encoded data removed]",
      "text/plain": [
       "<Figure size 432x288 with 1 Axes>"
      ]
     },
     "metadata": {},
     "output_type": "display_data"
    },
    {
     "data": {
      "image/png": "[encoded data removed]",
      "text/plain": [
       "<Figure size 432x288 with 1 Axes>"
      ]
     },
     "metadata": {},
     "output_type": "display_data"
    }
   ],
   "source": [
    "import matplotlib.pyplot as plt\n",
    "%matplotlib inline\n",
    "\n",
    "plt.plot(range(len(train_loss)), train_loss, label=\"train loss\")\n",
    "plt.plot(range(len(valid_loss)), valid_loss, label=\"valid loss\")\n",
    "plt.legend()\n",
    "plt.title(\"Loss\")\n",
    "plt.show()\n",
    "\n",
    "plt.plot(range(len(train_acc)), train_acc, label=\"train accuracy\")\n",
    "plt.plot(range(len(valid_acc)), valid_acc, label=\"valid accuracy\")\n",
    "plt.legend()\n",
    "plt.title(\"Accuracy\")\n",
    "plt.show()"
   ]
  },
  {
   "cell_type": "code",
   "execution_count": null,
   "metadata": {},
   "outputs": [],
   "source": []
  }
 ],
 "metadata": {
  "kernelspec": {
   "display_name": "Python 3",
   "language": "python",
   "name": "python3"
  },
  "language_info": {
   "codemirror_mode": {
    "name": "ipython",
    "version": 3
   },
   "file_extension": ".py",
   "mimetype": "text/x-python",
   "name": "python",
   "nbconvert_exporter": "python",
   "pygments_lexer": "ipython3",
   "version": "3.6.5"
  }
 },
 "nbformat": 4,
 "nbformat_minor": 2
}
