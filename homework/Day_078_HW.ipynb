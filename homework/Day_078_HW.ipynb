{
 "cells": [
  {
   "cell_type": "markdown",
   "metadata": {},
   "source": [
    "## Work\n",
    "1. 請嘗試將 preproc_x 替換成以每筆資料的 min/max 進行標準化至 -1 ~ 1 間，再進行訓練\n",
    "2. 請嘗試將 mlp 疊更深 (e.g 5~10 層)，進行訓練後觀察 learning curve 的走勢\n",
    "3. (optional) 請改用 GPU 進行訓練 (如果你有 GPU 的話)，比較使用 CPU 與 GPU 的訓練速度"
   ]
  },
  {
   "cell_type": "code",
   "execution_count": 1,
   "metadata": {},
   "outputs": [
    {
     "name": "stderr",
     "output_type": "stream",
     "text": [
      "'nvidia-smi' 不是內部或外部命令、可執行的程式或批次檔。\n"
     ]
    }
   ],
   "source": [
    "## 確認硬體資源\n",
    "\"\"\"\n",
    "Your code here\n",
    "\"\"\"\n",
    "!nvidia-smi"
   ]
  },
  {
   "cell_type": "code",
   "execution_count": 3,
   "metadata": {},
   "outputs": [
    {
     "name": "stdout",
     "output_type": "stream",
     "text": [
      "env: CUDA_VISIBLE_DEVICES=0\n"
     ]
    }
   ],
   "source": [
    "import os\n",
    "import keras\n",
    "\n",
    "# Try to enable GPU (optional)\n",
    "%env CUDA_VISIBLE_DEVICES=0"
   ]
  },
  {
   "cell_type": "code",
   "execution_count": 13,
   "metadata": {},
   "outputs": [],
   "source": [
    "train, test = keras.datasets.cifar10.load_data()"
   ]
  },
  {
   "cell_type": "code",
   "execution_count": 21,
   "metadata": {},
   "outputs": [],
   "source": [
    "## 資料前處理\n",
    "\"\"\"\n",
    "Your code here\n",
    "\"\"\"\n",
    "def preproc_x(x, flatten=True):\n",
    "    x = x / 255.\n",
    "    if flatten:\n",
    "        x = x.reshape((len(x), -1))\n",
    "        x = (x - x.min(axis=0)) / (x.max(axis=0) - x.min(axis=0)) * 2 - 1\n",
    "    return x\n",
    "\n",
    "def preproc_y(y, num_classes=10):\n",
    "    if y.shape[-1] == 1:\n",
    "        y = keras.utils.to_categorical(y, num_classes)\n",
    "    return y"
   ]
  },
  {
   "cell_type": "code",
   "execution_count": 22,
   "metadata": {},
   "outputs": [],
   "source": [
    "x_train, y_train = train\n",
    "x_test, y_test = test\n",
    "\n",
    "# Preproc the inputs\n",
    "x_train = preproc_x(x_train)\n",
    "x_test = preproc_x(x_test)\n",
    "\n",
    "# Preprc the outputs\n",
    "y_train = preproc_y(y_train)\n",
    "y_test = preproc_y(y_test)"
   ]
  },
  {
   "cell_type": "code",
   "execution_count": 25,
   "metadata": {},
   "outputs": [
    {
     "name": "stdout",
     "output_type": "stream",
     "text": [
      "_________________________________________________________________\n",
      "Layer (type)                 Output Shape              Param #   \n",
      "=================================================================\n",
      "input_2 (InputLayer)         (None, 3072)              0         \n",
      "_________________________________________________________________\n",
      "hidden_layer1 (Dense)        (None, 1024)              3146752   \n",
      "_________________________________________________________________\n",
      "hidden_layer2 (Dense)        (None, 512)               524800    \n",
      "_________________________________________________________________\n",
      "hidden_layer3 (Dense)        (None, 256)               131328    \n",
      "_________________________________________________________________\n",
      "hidden_layer4 (Dense)        (None, 128)               32896     \n",
      "_________________________________________________________________\n",
      "hidden_layer5 (Dense)        (None, 64)                8256      \n",
      "_________________________________________________________________\n",
      "hidden_layer6 (Dense)        (None, 32)                2080      \n",
      "_________________________________________________________________\n",
      "output (Dense)               (None, 10)                330       \n",
      "=================================================================\n",
      "Total params: 3,846,442\n",
      "Trainable params: 3,846,442\n",
      "Non-trainable params: 0\n",
      "_________________________________________________________________\n"
     ]
    }
   ],
   "source": [
    "\"\"\"\n",
    "Your code here\n",
    "\"\"\"\n",
    "def build_mlp(input_shape, output_units=10, num_neurons=[1024, 512, 256, 128, 64, 32]):\n",
    "    input_layer = keras.layers.Input(input_shape)\n",
    "    \n",
    "    for i, n_units in enumerate(num_neurons):\n",
    "        if i == 0:\n",
    "            x = keras.layers.Dense(units=n_units, activation=\"relu\", name=\"hidden_layer\"+str(i+1))(input_layer)\n",
    "        else:\n",
    "            x = keras.layers.Dense(units=n_units, activation=\"relu\", name=\"hidden_layer\"+str(i+1))(x)\n",
    "    \n",
    "    out = keras.layers.Dense(units=output_units, activation=\"softmax\", name=\"output\")(x)\n",
    "    \n",
    "    model = keras.models.Model(inputs=[input_layer], outputs=[out])\n",
    "    return model\n",
    "model = build_mlp(input_shape=x_train.shape[1:])\n",
    "model.summary()"
   ]
  },
  {
   "cell_type": "code",
   "execution_count": 26,
   "metadata": {},
   "outputs": [],
   "source": [
    "## 超參數設定\n",
    "LEARNING_RATE = 0.001\n",
    "EPOCHS = 100\n",
    "BATCH_SIZE = 256"
   ]
  },
  {
   "cell_type": "code",
   "execution_count": 27,
   "metadata": {},
   "outputs": [],
   "source": [
    "optimizer = keras.optimizers.Adam(lr=LEARNING_RATE)\n",
    "model.compile(loss=\"categorical_crossentropy\", metrics=[\"accuracy\"], optimizer=optimizer)"
   ]
  },
  {
   "cell_type": "code",
   "execution_count": 28,
   "metadata": {},
   "outputs": [
    {
     "name": "stdout",
     "output_type": "stream",
     "text": [
      "Train on 50000 samples, validate on 10000 samples\n",
      "Epoch 1/100\n",
      "50000/50000 [==============================] - 7s 137us/step - loss: 1.7369 - acc: 0.3811 - val_loss: 1.5427 - val_acc: 0.4477\n",
      "Epoch 2/100\n",
      "50000/50000 [==============================] - 3s 57us/step - loss: 1.4907 - acc: 0.4725 - val_loss: 1.4647 - val_acc: 0.4810\n",
      "Epoch 3/100\n",
      "50000/50000 [==============================] - 3s 57us/step - loss: 1.3654 - acc: 0.5182 - val_loss: 1.4454 - val_acc: 0.5008\n",
      "Epoch 4/100\n",
      "50000/50000 [==============================] - 3s 57us/step - loss: 1.2749 - acc: 0.5487 - val_loss: 1.3996 - val_acc: 0.5108\n",
      "Epoch 5/100\n",
      "50000/50000 [==============================] - 3s 57us/step - loss: 1.1751 - acc: 0.5857 - val_loss: 1.3571 - val_acc: 0.5279\n",
      "Epoch 6/100\n",
      "50000/50000 [==============================] - 3s 57us/step - loss: 1.0922 - acc: 0.6137 - val_loss: 1.3771 - val_acc: 0.5283\n",
      "Epoch 7/100\n",
      "50000/50000 [==============================] - 3s 55us/step - loss: 1.0162 - acc: 0.6417 - val_loss: 1.3768 - val_acc: 0.5360\n",
      "Epoch 8/100\n",
      "50000/50000 [==============================] - 3s 55us/step - loss: 0.9259 - acc: 0.6706 - val_loss: 1.4035 - val_acc: 0.5391\n",
      "Epoch 9/100\n",
      "50000/50000 [==============================] - 3s 59us/step - loss: 0.8549 - acc: 0.6949 - val_loss: 1.4167 - val_acc: 0.5450\n",
      "Epoch 10/100\n",
      "50000/50000 [==============================] - 3s 56us/step - loss: 0.7730 - acc: 0.7245 - val_loss: 1.5279 - val_acc: 0.5342\n",
      "Epoch 11/100\n",
      "50000/50000 [==============================] - 3s 55us/step - loss: 0.6986 - acc: 0.7506 - val_loss: 1.5385 - val_acc: 0.5382\n",
      "Epoch 12/100\n",
      "50000/50000 [==============================] - 3s 55us/step - loss: 0.6362 - acc: 0.7731 - val_loss: 1.6772 - val_acc: 0.5259\n",
      "Epoch 13/100\n",
      "50000/50000 [==============================] - 3s 56us/step - loss: 0.5697 - acc: 0.7965 - val_loss: 1.6847 - val_acc: 0.5420\n",
      "Epoch 14/100\n",
      "50000/50000 [==============================] - 3s 55us/step - loss: 0.5124 - acc: 0.8188 - val_loss: 1.7917 - val_acc: 0.5402\n",
      "Epoch 15/100\n",
      "50000/50000 [==============================] - 3s 55us/step - loss: 0.4688 - acc: 0.8339 - val_loss: 1.8743 - val_acc: 0.5412\n",
      "Epoch 16/100\n",
      "50000/50000 [==============================] - 3s 55us/step - loss: 0.4155 - acc: 0.8533 - val_loss: 1.9446 - val_acc: 0.5371\n",
      "Epoch 17/100\n",
      "50000/50000 [==============================] - 3s 55us/step - loss: 0.3646 - acc: 0.8727 - val_loss: 2.2038 - val_acc: 0.5413\n",
      "Epoch 18/100\n",
      "50000/50000 [==============================] - 3s 56us/step - loss: 0.3360 - acc: 0.8813 - val_loss: 2.1528 - val_acc: 0.5442\n",
      "Epoch 19/100\n",
      "50000/50000 [==============================] - 3s 55us/step - loss: 0.3126 - acc: 0.8902 - val_loss: 2.2329 - val_acc: 0.5445\n",
      "Epoch 20/100\n",
      "50000/50000 [==============================] - 3s 56us/step - loss: 0.2873 - acc: 0.8994 - val_loss: 2.3200 - val_acc: 0.5413\n",
      "Epoch 21/100\n",
      "50000/50000 [==============================] - 3s 55us/step - loss: 0.2597 - acc: 0.9089 - val_loss: 2.3974 - val_acc: 0.5428\n",
      "Epoch 22/100\n",
      "50000/50000 [==============================] - 3s 55us/step - loss: 0.2432 - acc: 0.9158 - val_loss: 2.5132 - val_acc: 0.5526\n",
      "Epoch 23/100\n",
      "50000/50000 [==============================] - 3s 55us/step - loss: 0.2228 - acc: 0.9234 - val_loss: 2.6275 - val_acc: 0.5339\n",
      "Epoch 24/100\n",
      "50000/50000 [==============================] - 3s 55us/step - loss: 0.2192 - acc: 0.9241 - val_loss: 2.5963 - val_acc: 0.5435\n",
      "Epoch 25/100\n",
      "50000/50000 [==============================] - 3s 55us/step - loss: 0.1970 - acc: 0.9337 - val_loss: 2.7086 - val_acc: 0.5421\n",
      "Epoch 26/100\n",
      "50000/50000 [==============================] - 3s 55us/step - loss: 0.2027 - acc: 0.9306 - val_loss: 2.6598 - val_acc: 0.5439\n",
      "Epoch 27/100\n",
      "50000/50000 [==============================] - 3s 55us/step - loss: 0.1897 - acc: 0.9350 - val_loss: 2.7779 - val_acc: 0.5445\n",
      "Epoch 28/100\n",
      "50000/50000 [==============================] - 3s 55us/step - loss: 0.1774 - acc: 0.9393 - val_loss: 2.8101 - val_acc: 0.5451\n",
      "Epoch 29/100\n",
      "50000/50000 [==============================] - 3s 54us/step - loss: 0.1720 - acc: 0.9422 - val_loss: 2.9624 - val_acc: 0.5437\n",
      "Epoch 30/100\n",
      "50000/50000 [==============================] - 3s 55us/step - loss: 0.1478 - acc: 0.9497 - val_loss: 2.9154 - val_acc: 0.5411\n",
      "Epoch 31/100\n",
      "50000/50000 [==============================] - 3s 54us/step - loss: 0.1597 - acc: 0.9470 - val_loss: 2.9523 - val_acc: 0.5451\n",
      "Epoch 32/100\n",
      "50000/50000 [==============================] - 3s 54us/step - loss: 0.1567 - acc: 0.9475 - val_loss: 2.9844 - val_acc: 0.5444\n",
      "Epoch 33/100\n",
      "50000/50000 [==============================] - 3s 55us/step - loss: 0.1291 - acc: 0.9560 - val_loss: 3.0360 - val_acc: 0.5401\n",
      "Epoch 34/100\n",
      "50000/50000 [==============================] - 3s 58us/step - loss: 0.1469 - acc: 0.9509 - val_loss: 2.9723 - val_acc: 0.5403\n",
      "Epoch 35/100\n",
      "50000/50000 [==============================] - 3s 58us/step - loss: 0.1441 - acc: 0.9516 - val_loss: 3.0039 - val_acc: 0.5340\n",
      "Epoch 36/100\n",
      "50000/50000 [==============================] - 3s 59us/step - loss: 0.1311 - acc: 0.9558 - val_loss: 3.0999 - val_acc: 0.5449\n",
      "Epoch 37/100\n",
      "50000/50000 [==============================] - 3s 57us/step - loss: 0.1107 - acc: 0.9620 - val_loss: 3.1430 - val_acc: 0.5408\n",
      "Epoch 38/100\n",
      "50000/50000 [==============================] - 3s 56us/step - loss: 0.1246 - acc: 0.9586 - val_loss: 3.1213 - val_acc: 0.5377\n",
      "Epoch 39/100\n",
      "50000/50000 [==============================] - 3s 55us/step - loss: 0.0996 - acc: 0.9673 - val_loss: 3.2747 - val_acc: 0.5393\n",
      "Epoch 40/100\n",
      "50000/50000 [==============================] - 3s 55us/step - loss: 0.1263 - acc: 0.9594 - val_loss: 3.1976 - val_acc: 0.5376\n",
      "Epoch 41/100\n",
      "50000/50000 [==============================] - 3s 55us/step - loss: 0.1191 - acc: 0.9605 - val_loss: 3.1751 - val_acc: 0.5419\n",
      "Epoch 42/100\n",
      "50000/50000 [==============================] - 3s 55us/step - loss: 0.1151 - acc: 0.9627 - val_loss: 3.3351 - val_acc: 0.5422\n",
      "Epoch 43/100\n",
      "50000/50000 [==============================] - 3s 55us/step - loss: 0.1064 - acc: 0.9655 - val_loss: 3.2842 - val_acc: 0.5459\n",
      "Epoch 44/100\n",
      "50000/50000 [==============================] - 3s 55us/step - loss: 0.1175 - acc: 0.9615 - val_loss: 3.1747 - val_acc: 0.5378\n",
      "Epoch 45/100\n",
      "50000/50000 [==============================] - 3s 55us/step - loss: 0.1030 - acc: 0.9658 - val_loss: 3.3824 - val_acc: 0.5408\n",
      "Epoch 46/100\n",
      "50000/50000 [==============================] - 3s 54us/step - loss: 0.0900 - acc: 0.9718 - val_loss: 3.3754 - val_acc: 0.5407\n",
      "Epoch 47/100\n",
      "50000/50000 [==============================] - 3s 55us/step - loss: 0.1006 - acc: 0.9672 - val_loss: 3.2202 - val_acc: 0.5495\n",
      "Epoch 48/100\n",
      "50000/50000 [==============================] - 3s 55us/step - loss: 0.0974 - acc: 0.9677 - val_loss: 3.3810 - val_acc: 0.5399\n",
      "Epoch 49/100\n",
      "50000/50000 [==============================] - 3s 55us/step - loss: 0.0962 - acc: 0.9682 - val_loss: 3.3012 - val_acc: 0.5351\n",
      "Epoch 50/100\n",
      "50000/50000 [==============================] - 3s 55us/step - loss: 0.1093 - acc: 0.9639 - val_loss: 3.3137 - val_acc: 0.5392\n",
      "Epoch 51/100\n",
      "50000/50000 [==============================] - 3s 55us/step - loss: 0.0789 - acc: 0.9745 - val_loss: 3.3647 - val_acc: 0.5495\n",
      "Epoch 52/100\n",
      "50000/50000 [==============================] - 3s 55us/step - loss: 0.0813 - acc: 0.9725 - val_loss: 3.5328 - val_acc: 0.5382\n",
      "Epoch 53/100\n",
      "50000/50000 [==============================] - 3s 55us/step - loss: 0.1009 - acc: 0.9670 - val_loss: 3.2976 - val_acc: 0.5415\n",
      "Epoch 54/100\n",
      "50000/50000 [==============================] - 3s 55us/step - loss: 0.0829 - acc: 0.9739 - val_loss: 3.4411 - val_acc: 0.5412\n",
      "Epoch 55/100\n",
      "50000/50000 [==============================] - 3s 57us/step - loss: 0.0814 - acc: 0.9740 - val_loss: 3.5220 - val_acc: 0.5514\n",
      "Epoch 56/100\n",
      "50000/50000 [==============================] - 3s 57us/step - loss: 0.1027 - acc: 0.9669 - val_loss: 3.4785 - val_acc: 0.5288\n",
      "Epoch 57/100\n",
      "50000/50000 [==============================] - 3s 56us/step - loss: 0.0908 - acc: 0.9707 - val_loss: 3.5096 - val_acc: 0.5392\n",
      "Epoch 58/100\n",
      "50000/50000 [==============================] - 3s 55us/step - loss: 0.0772 - acc: 0.9761 - val_loss: 3.3924 - val_acc: 0.5429\n",
      "Epoch 59/100\n"
     ]
    },
    {
     "name": "stdout",
     "output_type": "stream",
     "text": [
      "50000/50000 [==============================] - 3s 54us/step - loss: 0.0830 - acc: 0.9741 - val_loss: 3.3113 - val_acc: 0.5449\n",
      "Epoch 60/100\n",
      "50000/50000 [==============================] - 3s 53us/step - loss: 0.0699 - acc: 0.9771 - val_loss: 3.5573 - val_acc: 0.5372\n",
      "Epoch 61/100\n",
      "50000/50000 [==============================] - 3s 53us/step - loss: 0.0742 - acc: 0.9765 - val_loss: 3.4640 - val_acc: 0.5421\n",
      "Epoch 62/100\n",
      "50000/50000 [==============================] - 3s 53us/step - loss: 0.0756 - acc: 0.9760 - val_loss: 3.5373 - val_acc: 0.5456\n",
      "Epoch 63/100\n",
      "50000/50000 [==============================] - 3s 53us/step - loss: 0.0741 - acc: 0.9768 - val_loss: 3.4221 - val_acc: 0.5523\n",
      "Epoch 64/100\n",
      "50000/50000 [==============================] - 3s 53us/step - loss: 0.0730 - acc: 0.9768 - val_loss: 3.3992 - val_acc: 0.5432\n",
      "Epoch 65/100\n",
      "50000/50000 [==============================] - 3s 53us/step - loss: 0.0756 - acc: 0.9753 - val_loss: 3.4311 - val_acc: 0.5448\n",
      "Epoch 66/100\n",
      "50000/50000 [==============================] - 3s 54us/step - loss: 0.0677 - acc: 0.9783 - val_loss: 3.5179 - val_acc: 0.5405\n",
      "Epoch 67/100\n",
      "50000/50000 [==============================] - 3s 53us/step - loss: 0.0735 - acc: 0.9765 - val_loss: 3.4985 - val_acc: 0.5475\n",
      "Epoch 68/100\n",
      "50000/50000 [==============================] - 3s 53us/step - loss: 0.0750 - acc: 0.9761 - val_loss: 3.7187 - val_acc: 0.5448\n",
      "Epoch 69/100\n",
      "50000/50000 [==============================] - 3s 53us/step - loss: 0.0637 - acc: 0.9806 - val_loss: 3.5099 - val_acc: 0.5367\n",
      "Epoch 70/100\n",
      "50000/50000 [==============================] - 3s 53us/step - loss: 0.0814 - acc: 0.9740 - val_loss: 3.4629 - val_acc: 0.5416\n",
      "Epoch 71/100\n",
      "50000/50000 [==============================] - 3s 53us/step - loss: 0.0668 - acc: 0.9780 - val_loss: 3.5166 - val_acc: 0.5446\n",
      "Epoch 72/100\n",
      "50000/50000 [==============================] - 3s 53us/step - loss: 0.0600 - acc: 0.9803 - val_loss: 3.4694 - val_acc: 0.5431\n",
      "Epoch 73/100\n",
      "50000/50000 [==============================] - 3s 53us/step - loss: 0.0754 - acc: 0.9758 - val_loss: 3.5300 - val_acc: 0.5478\n",
      "Epoch 74/100\n",
      "50000/50000 [==============================] - 3s 54us/step - loss: 0.0615 - acc: 0.9809 - val_loss: 3.4906 - val_acc: 0.5483\n",
      "Epoch 75/100\n",
      "50000/50000 [==============================] - 3s 53us/step - loss: 0.0588 - acc: 0.9809 - val_loss: 3.5542 - val_acc: 0.5451\n",
      "Epoch 76/100\n",
      "50000/50000 [==============================] - 3s 53us/step - loss: 0.0660 - acc: 0.9793 - val_loss: 3.4592 - val_acc: 0.5485\n",
      "Epoch 77/100\n",
      "50000/50000 [==============================] - 3s 55us/step - loss: 0.0552 - acc: 0.9833 - val_loss: 3.6837 - val_acc: 0.5450\n",
      "Epoch 78/100\n",
      "50000/50000 [==============================] - 3s 56us/step - loss: 0.0637 - acc: 0.9804 - val_loss: 3.4796 - val_acc: 0.5472\n",
      "Epoch 79/100\n",
      "50000/50000 [==============================] - 3s 56us/step - loss: 0.0584 - acc: 0.9817 - val_loss: 3.5123 - val_acc: 0.5390\n",
      "Epoch 80/100\n",
      "50000/50000 [==============================] - 3s 54us/step - loss: 0.0664 - acc: 0.9795 - val_loss: 3.4351 - val_acc: 0.5446\n",
      "Epoch 81/100\n",
      "50000/50000 [==============================] - 3s 53us/step - loss: 0.0548 - acc: 0.9820 - val_loss: 3.5716 - val_acc: 0.5477\n",
      "Epoch 82/100\n",
      "50000/50000 [==============================] - 3s 53us/step - loss: 0.0552 - acc: 0.9825 - val_loss: 3.5911 - val_acc: 0.5440\n",
      "Epoch 83/100\n",
      "50000/50000 [==============================] - 3s 53us/step - loss: 0.0564 - acc: 0.9814 - val_loss: 3.6112 - val_acc: 0.5428\n",
      "Epoch 84/100\n",
      "50000/50000 [==============================] - 3s 53us/step - loss: 0.0644 - acc: 0.9797 - val_loss: 3.6201 - val_acc: 0.5359\n",
      "Epoch 85/100\n",
      "50000/50000 [==============================] - 3s 53us/step - loss: 0.0710 - acc: 0.9778 - val_loss: 3.4043 - val_acc: 0.5464\n",
      "Epoch 86/100\n",
      "50000/50000 [==============================] - 3s 53us/step - loss: 0.0553 - acc: 0.9827 - val_loss: 3.5258 - val_acc: 0.54298\n",
      "Epoch 87/100\n",
      "50000/50000 [==============================] - 3s 53us/step - loss: 0.0320 - acc: 0.9895 - val_loss: 3.9056 - val_acc: 0.5440\n",
      "Epoch 88/100\n",
      "50000/50000 [==============================] - 3s 53us/step - loss: 0.0739 - acc: 0.9779 - val_loss: 3.3591 - val_acc: 0.5440\n",
      "Epoch 89/100\n",
      "50000/50000 [==============================] - 3s 53us/step - loss: 0.0560 - acc: 0.9826 - val_loss: 3.6003 - val_acc: 0.5383\n",
      "Epoch 90/100\n",
      "50000/50000 [==============================] - 3s 53us/step - loss: 0.0496 - acc: 0.9846 - val_loss: 3.6690 - val_acc: 0.5415\n",
      "Epoch 91/100\n",
      "50000/50000 [==============================] - 3s 53us/step - loss: 0.0520 - acc: 0.9842 - val_loss: 3.5435 - val_acc: 0.5442\n",
      "Epoch 92/100\n",
      "50000/50000 [==============================] - 3s 53us/step - loss: 0.0512 - acc: 0.9840 - val_loss: 3.5583 - val_acc: 0.5387\n",
      "Epoch 93/100\n",
      "50000/50000 [==============================] - 3s 54us/step - loss: 0.0572 - acc: 0.9827 - val_loss: 3.5269 - val_acc: 0.5533\n",
      "Epoch 94/100\n",
      "50000/50000 [==============================] - 3s 53us/step - loss: 0.0617 - acc: 0.9801 - val_loss: 3.4186 - val_acc: 0.5509\n",
      "Epoch 95/100\n",
      "50000/50000 [==============================] - 3s 53us/step - loss: 0.0617 - acc: 0.9817 - val_loss: 3.4627 - val_acc: 0.5409\n",
      "Epoch 96/100\n",
      "50000/50000 [==============================] - 3s 54us/step - loss: 0.0438 - acc: 0.9861 - val_loss: 3.6162 - val_acc: 0.5461\n",
      "Epoch 97/100\n",
      "50000/50000 [==============================] - 3s 54us/step - loss: 0.0476 - acc: 0.9852 - val_loss: 3.5100 - val_acc: 0.53750s - loss: 0.0436 - ac\n",
      "Epoch 98/100\n",
      "50000/50000 [==============================] - 3s 53us/step - loss: 0.0421 - acc: 0.9875 - val_loss: 3.7588 - val_acc: 0.5506\n",
      "Epoch 99/100\n",
      "50000/50000 [==============================] - 3s 53us/step - loss: 0.0414 - acc: 0.9870 - val_loss: 3.5920 - val_acc: 0.5408\n",
      "Epoch 100/100\n",
      "50000/50000 [==============================] - 3s 53us/step - loss: 0.0651 - acc: 0.9796 - val_loss: 3.5137 - val_acc: 0.5413\n"
     ]
    },
    {
     "data": {
      "text/plain": [
       "<keras.callbacks.History at 0x2b11d8a64a8>"
      ]
     },
     "execution_count": 28,
     "metadata": {},
     "output_type": "execute_result"
    }
   ],
   "source": [
    "model.fit(x_train, y_train, \n",
    "          epochs=EPOCHS, \n",
    "          batch_size=BATCH_SIZE, \n",
    "          validation_data=(x_test, y_test), \n",
    "          shuffle=True)"
   ]
  },
  {
   "cell_type": "code",
   "execution_count": 30,
   "metadata": {},
   "outputs": [
    {
     "data": {
      "image/png": "[encoded data removed]",
      "text/plain": [
       "<Figure size 432x288 with 1 Axes>"
      ]
     },
     "metadata": {},
     "output_type": "display_data"
    },
    {
     "data": {
      "image/png": "[encoded data removed]",
      "text/plain": [
       "<Figure size 432x288 with 1 Axes>"
      ]
     },
     "metadata": {},
     "output_type": "display_data"
    }
   ],
   "source": [
    "import matplotlib.pyplot as plt\n",
    "\n",
    "\n",
    "train_loss = model.history.history[\"loss\"]\n",
    "valid_loss = model.history.history[\"val_loss\"]\n",
    "\n",
    "train_acc = model.history.history[\"acc\"]\n",
    "valid_acc = model.history.history[\"val_acc\"]\n",
    "\n",
    "plt.plot(range(len(train_loss)), train_loss, label=\"train loss\")\n",
    "plt.plot(range(len(valid_loss)), valid_loss, label=\"valid loss\")\n",
    "plt.legend()\n",
    "plt.title(\"Loss\")\n",
    "plt.show()\n",
    "\n",
    "plt.plot(range(len(train_acc)), train_acc, label=\"train accuracy\")\n",
    "plt.plot(range(len(valid_acc)), valid_acc, label=\"valid accuracy\")\n",
    "plt.legend()\n",
    "plt.title(\"Accuracy\")\n",
    "plt.show()"
   ]
  },
  {
   "cell_type": "code",
   "execution_count": null,
   "metadata": {},
   "outputs": [],
   "source": []
  }
 ],
 "metadata": {
  "kernelspec": {
   "display_name": "Python 3",
   "language": "python",
   "name": "python3"
  },
  "language_info": {
   "codemirror_mode": {
    "name": "ipython",
    "version": 3
   },
   "file_extension": ".py",
   "mimetype": "text/x-python",
   "name": "python",
   "nbconvert_exporter": "python",
   "pygments_lexer": "ipython3",
   "version": "3.6.5"
  }
 },
 "nbformat": 4,
 "nbformat_minor": 2
}
