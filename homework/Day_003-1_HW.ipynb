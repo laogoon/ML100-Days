{
 "cells": [
  {
   "cell_type": "markdown",
   "metadata": {},
   "source": [
    "## 練習時間\n",
    "在小量的資料上，我們用眼睛就可以看得出來程式碼是否有跑出我們理想中的結果\n",
    "\n",
    "請嘗試想像一個你需要的資料結構 (裡面的值可以是隨機的)，然後用上述的方法把它變成 pandas DataFrame\n",
    "\n",
    "#### Ex: 想像一個 dataframe 有兩個欄位，一個是國家，一個是人口，求人口數最多的國家\n",
    "\n",
    "### Hints: [隨機產生數值](https://blog.csdn.net/christianashannon/article/details/78867204)"
   ]
  },
  {
   "cell_type": "code",
   "execution_count": 1,
   "metadata": {},
   "outputs": [],
   "source": [
    "import pandas as pd\n",
    "import numpy as np"
   ]
  },
  {
   "cell_type": "code",
   "execution_count": 65,
   "metadata": {},
   "outputs": [
    {
     "name": "stdout",
     "output_type": "stream",
     "text": [
      "              國家        人口\n",
      "0         Taiwan  50129561\n",
      "1  United States  53708895\n",
      "2        Thailan  51913522\n",
      "              國家        人口\n",
      "0         Taiwan  50129561\n",
      "2        Thailan  51913522\n",
      "1  United States  53708895\n",
      "人口數最多的是:\n",
      "國家    United States\n",
      "人口         53708895\n",
      "Name: 1, dtype: object\n"
     ]
    }
   ],
   "source": [
    "num = np.random.randint(90000000,size=3)\n",
    "#print(y)\n",
    "data = {'國家':['Taiwan','United States','Thailan'],\n",
    "        '人口':num }\n",
    "People = pd.DataFrame(data)\n",
    "print(People)\n",
    "#求人口數最多的國家\n",
    "People1 = People.sort_values('人口')\n",
    "print(People1)\n",
    "#People2 = People['人口'].idxmax()\n",
    "#print(People2['國家','人口'])\n",
    "print('人口數最多的是:')\n",
    "print(People.iloc[People['人口'].idxmax()])"
   ]
  }
 ],
 "metadata": {
  "kernelspec": {
   "display_name": "Python 3",
   "language": "python",
   "name": "python3"
  },
  "language_info": {
   "codemirror_mode": {
    "name": "ipython",
    "version": 3
   },
   "file_extension": ".py",
   "mimetype": "text/x-python",
   "name": "python",
   "nbconvert_exporter": "python",
   "pygments_lexer": "ipython3",
   "version": "3.6.6"
  }
 },
 "nbformat": 4,
 "nbformat_minor": 2
}
