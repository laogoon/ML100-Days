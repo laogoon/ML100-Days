{
 "cells": [
  {
   "cell_type": "code",
   "execution_count": 17,
   "metadata": {},
   "outputs": [],
   "source": [
    "# 載入必須使用的 Library\n",
    "import keras\n",
    "from keras.datasets import cifar10\n",
    "from keras.models import Sequential, load_model\n",
    "from keras.layers import Dense, Dropout, Activation, Flatten\n",
    "from keras.layers import Conv2D, MaxPooling2D\n"
   ]
  },
  {
   "cell_type": "markdown",
   "metadata": {},
   "source": [
    "# 作業:\n",
    "請修改input shape: (Conv2D(64, (3, 3))的設定, 新增一層 Dense 並觀看 model.summary 的輸出"
   ]
  },
  {
   "cell_type": "code",
   "execution_count": 18,
   "metadata": {},
   "outputs": [],
   "source": [
    "batch_size = 16\n",
    "num_classes = 10\n",
    "epochs = 10\n",
    "\n",
    "# The data, shuffled and split between train and test sets:\n",
    "(x_train, y_train), (x_test, y_test) = cifar10.load_data()"
   ]
  },
  {
   "cell_type": "code",
   "execution_count": 19,
   "metadata": {},
   "outputs": [],
   "source": [
    " #Convert class vectors to binary class matrices.\n",
    "y_train = keras.utils.to_categorical(y_train, num_classes)\n",
    "y_test = keras.utils.to_categorical(y_test, num_classes)\n",
    "\n",
    "x_train = x_train.astype('float32') / 255.0\n",
    "x_test = x_test.astype('float32') / 255.0"
   ]
  },
  {
   "cell_type": "code",
   "execution_count": 24,
   "metadata": {},
   "outputs": [
    {
     "name": "stdout",
     "output_type": "stream",
     "text": [
      "_________________________________________________________________\n",
      "Layer (type)                 Output Shape              Param #   \n",
      "=================================================================\n",
      "conv2d_12 (Conv2D)           (None, 32, 32, 64)        1792      \n",
      "_________________________________________________________________\n",
      "max_pooling2d_14 (MaxPooling (None, 16, 16, 64)        0         \n",
      "_________________________________________________________________\n",
      "dense_27 (Dense)             (None, 16, 16, 1024)      66560     \n",
      "_________________________________________________________________\n",
      "activation_22 (Activation)   (None, 16, 16, 1024)      0         \n",
      "_________________________________________________________________\n",
      "flatten_12 (Flatten)         (None, 262144)            0         \n",
      "_________________________________________________________________\n",
      "dense_28 (Dense)             (None, 512)               134218240 \n",
      "_________________________________________________________________\n",
      "activation_23 (Activation)   (None, 512)               0         \n",
      "_________________________________________________________________\n",
      "dropout_9 (Dropout)          (None, 512)               0         \n",
      "_________________________________________________________________\n",
      "dense_29 (Dense)             (None, 10)                5130      \n",
      "_________________________________________________________________\n",
      "activation_24 (Activation)   (None, 10)                0         \n",
      "=================================================================\n",
      "Total params: 134,291,722\n",
      "Trainable params: 134,291,722\n",
      "Non-trainable params: 0\n",
      "_________________________________________________________________\n",
      "None\n"
     ]
    }
   ],
   "source": [
    "# build our CNN model, 多加幾層\n",
    "model = Sequential()\n",
    "model.add(Conv2D(64, (3, 3), padding='same',\n",
    "                 input_shape=x_train.shape[1:],activation='relu'))\n",
    "model.add(MaxPooling2D(pool_size=(2, 2)))\n",
    "#model.add(Flatten())\n",
    "model.add(Dense(1024))\n",
    "model.add(Activation('relu'))\n",
    "model.add(Flatten())\n",
    "model.add(Dense(512))\n",
    "model.add(Activation('relu'))\n",
    "model.add(Dropout(0.5))\n",
    "model.add(Dense(num_classes))\n",
    "model.add(Activation('softmax'))\n",
    "\n",
    "print(model.summary())"
   ]
  },
  {
   "cell_type": "code",
   "execution_count": 25,
   "metadata": {},
   "outputs": [
    {
     "name": "stdout",
     "output_type": "stream",
     "text": [
      "Train on 40000 samples, validate on 10000 samples\n",
      "Epoch 1/10\n",
      "40000/40000 [==============================] - 52s 1ms/step - loss: 1.6195 - acc: 0.4409 - val_loss: 1.2287 - val_acc: 0.5738\n",
      "Epoch 2/10\n",
      "40000/40000 [==============================] - 48s 1ms/step - loss: 1.1669 - acc: 0.5859 - val_loss: 1.0517 - val_acc: 0.6299\n",
      "Epoch 3/10\n",
      "40000/40000 [==============================] - 48s 1ms/step - loss: 0.9977 - acc: 0.6470 - val_loss: 0.9813 - val_acc: 0.6574\n",
      "Epoch 4/10\n",
      "40000/40000 [==============================] - 48s 1ms/step - loss: 0.8641 - acc: 0.6975 - val_loss: 0.9126 - val_acc: 0.6841\n",
      "Epoch 5/10\n",
      "40000/40000 [==============================] - 48s 1ms/step - loss: 0.7412 - acc: 0.7387 - val_loss: 0.8809 - val_acc: 0.6960\n",
      "Epoch 6/10\n",
      "40000/40000 [==============================] - 48s 1ms/step - loss: 0.6379 - acc: 0.7757 - val_loss: 0.8775 - val_acc: 0.7003\n",
      "Epoch 7/10\n",
      "40000/40000 [==============================] - 48s 1ms/step - loss: 0.5431 - acc: 0.8112 - val_loss: 0.9170 - val_acc: 0.6966\n",
      "Epoch 8/10\n",
      "40000/40000 [==============================] - 48s 1ms/step - loss: 0.4541 - acc: 0.8392 - val_loss: 0.8948 - val_acc: 0.7085\n",
      "Epoch 9/10\n",
      "40000/40000 [==============================] - 48s 1ms/step - loss: 0.3727 - acc: 0.8713 - val_loss: 0.9434 - val_acc: 0.7095\n",
      "Epoch 10/10\n",
      "40000/40000 [==============================] - 48s 1ms/step - loss: 0.3155 - acc: 0.8889 - val_loss: 0.9756 - val_acc: 0.7129\n",
      "10000/10000 [==============================] - 3s 255us/step\n",
      "Test accuracy: 0.7056\n"
     ]
    }
   ],
   "source": [
    "# initiate Adam optimizer\n",
    "opt = keras.optimizers.Adam()\n",
    "\n",
    "# Let's train the model using Adam\n",
    "model.compile(loss='categorical_crossentropy',optimizer=opt,metrics=['accuracy'])\n",
    "\n",
    "model_history = model.fit(x_train, y_train, validation_split=0.2, epochs=10, batch_size=128, verbose=1)  \n",
    "\n",
    "# Score trained model.\n",
    "scores = model.evaluate(x_test, y_test, verbose=1)\n",
    "print('Test accuracy:', scores[1])"
   ]
  },
  {
   "cell_type": "code",
   "execution_count": null,
   "metadata": {},
   "outputs": [],
   "source": []
  }
 ],
 "metadata": {
  "kernelspec": {
   "display_name": "Python 3",
   "language": "python",
   "name": "python3"
  },
  "language_info": {
   "codemirror_mode": {
    "name": "ipython",
    "version": 3
   },
   "file_extension": ".py",
   "mimetype": "text/x-python",
   "name": "python",
   "nbconvert_exporter": "python",
   "pygments_lexer": "ipython3",
   "version": "3.6.5"
  }
 },
 "nbformat": 4,
 "nbformat_minor": 2
}
